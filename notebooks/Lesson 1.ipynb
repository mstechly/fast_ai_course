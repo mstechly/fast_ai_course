{
 "cells": [
  {
   "cell_type": "markdown",
   "metadata": {},
   "source": [
    "# Lesson 1"
   ]
  },
  {
   "cell_type": "markdown",
   "metadata": {},
   "source": [
    "## 1. Objectives"
   ]
  },
  {
   "cell_type": "markdown",
   "metadata": {},
   "source": [
    "The main objective of this notebook is to replicate the results from the first lesson of Fast AI course (https://github.com/fastai/courses/blob/master/deeplearning1/nbs/lesson1.ipynb).\n",
    "\n",
    "I decided to do the following:\n",
    "1. Create vgg16 model based on vgg16 class. It should be able to distinguish between cats and dogs.\n",
    "2. Take part in the Dogs vs Cats Kaggle Competition\n",
    "3. Create vgg16 model which works on some other dataset."
   ]
  },
  {
   "cell_type": "markdown",
   "metadata": {},
   "source": [
    "Data should be downloaded from http://files.fast.ai/data/dogscats.zip and put into data directory."
   ]
  },
  {
   "cell_type": "markdown",
   "metadata": {},
   "source": [
    "## 2. Setting up"
   ]
  },
  {
   "cell_type": "code",
   "execution_count": 1,
   "metadata": {
    "collapsed": false
   },
   "outputs": [],
   "source": [
    "%matplotlib inline\n",
    "from __future__ import division,print_function\n",
    "\n",
    "import os, json \n",
    "from glob import glob\n",
    "import numpy as np\n",
    "np.set_printoptions(precision=4, linewidth=100)\n",
    "from matplotlib import pyplot as plt"
   ]
  },
  {
   "cell_type": "code",
   "execution_count": 2,
   "metadata": {
    "collapsed": false
   },
   "outputs": [
    {
     "name": "stderr",
     "output_type": "stream",
     "text": [
      "Using gpu device 0: Tesla K80 (CNMeM is disabled, cuDNN 5103)\n",
      "/home/ubuntu/anaconda2/lib/python2.7/site-packages/theano/sandbox/cuda/__init__.py:600: UserWarning: Your cuDNN version is more recent than the one Theano officially supports. If you see any problems, try updating Theano or downgrading cuDNN to version 5.\n",
      "  warnings.warn(warn)\n",
      "Using Theano backend.\n"
     ]
    }
   ],
   "source": [
    "import utils; reload(utils)\n",
    "from utils import plots"
   ]
  },
  {
   "cell_type": "code",
   "execution_count": 3,
   "metadata": {
    "collapsed": false
   },
   "outputs": [],
   "source": [
    "import vgg16; reload(vgg16)\n",
    "from vgg16 import Vgg16"
   ]
  },
  {
   "cell_type": "markdown",
   "metadata": {},
   "source": [
    "## 3. VGG16 - cats and dogs"
   ]
  },
  {
   "cell_type": "code",
   "execution_count": 4,
   "metadata": {
    "collapsed": true
   },
   "outputs": [],
   "source": [
    "# path = os.path.join(\"..\",\"data\",\"dogscats\")\n",
    "path = os.path.join(\"..\",\"data\",\"dogscats\",\"sample\")"
   ]
  },
  {
   "cell_type": "code",
   "execution_count": 5,
   "metadata": {
    "collapsed": true
   },
   "outputs": [],
   "source": [
    "batch_size = 64"
   ]
  },
  {
   "cell_type": "code",
   "execution_count": 6,
   "metadata": {
    "collapsed": false
   },
   "outputs": [],
   "source": [
    "network = Vgg16()"
   ]
  },
  {
   "cell_type": "code",
   "execution_count": null,
   "metadata": {
    "collapsed": false
   },
   "outputs": [],
   "source": [
    "train_batches = network.get_batches(os.path.join(path, \"train\"))\n",
    "validation_batches = network.get_batches(os.path.join(path, \"valid\"))\n",
    "network.finetune(train_batches)"
   ]
  },
  {
   "cell_type": "code",
   "execution_count": null,
   "metadata": {
    "collapsed": false
   },
   "outputs": [],
   "source": [
    "network.fit(train_batches, validation_batches)"
   ]
  },
  {
   "cell_type": "code",
   "execution_count": null,
   "metadata": {
    "collapsed": false
   },
   "outputs": [],
   "source": [
    "batches = network.get_batches(os.path.join(path,\"train\"), batch_size=4)"
   ]
  },
  {
   "cell_type": "code",
   "execution_count": null,
   "metadata": {
    "collapsed": false
   },
   "outputs": [],
   "source": [
    "imgs,labels = next(batches)\n",
    "plots(imgs, titles=labels)"
   ]
  },
  {
   "cell_type": "markdown",
   "metadata": {},
   "source": [
    "## 4. Cats and dogs - Kaggle competition "
   ]
  },
  {
   "cell_type": "code",
   "execution_count": 4,
   "metadata": {
    "collapsed": true
   },
   "outputs": [],
   "source": [
    "path = os.path.join(\"..\", \"dogscats_data\")"
   ]
  },
  {
   "cell_type": "markdown",
   "metadata": {},
   "source": [
    "### 4.1 Setting up directories structure"
   ]
  },
  {
   "cell_type": "markdown",
   "metadata": {},
   "source": [
    "To download the data follow the instructions: http://wiki.fast.ai/index.php/Kaggle_CLI and put the dat a to the dogscats_data directory."
   ]
  },
  {
   "cell_type": "markdown",
   "metadata": {
    "collapsed": true
   },
   "source": [
    "#### Imports + helper function:"
   ]
  },
  {
   "cell_type": "code",
   "execution_count": 170,
   "metadata": {
    "collapsed": false
   },
   "outputs": [],
   "source": [
    "import glob\n",
    "import shutil\n",
    "def safe_mkdir(path):\n",
    "    \"\"\"\n",
    "    Checks if a directory exists. If not, creates it.\n",
    "    \"\"\"\n",
    "    try:\n",
    "        os.makedirs(path)\n",
    "    except OSError as exc:  # Python >2.5\n",
    "        pass\n",
    "    except AttributeError as exc:\n",
    "        pass"
   ]
  },
  {
   "cell_type": "markdown",
   "metadata": {},
   "source": [
    "#### Creating training and validation set.\n",
    "\n",
    "Also, puts test data into a structure where we can use get_batches method easily."
   ]
  },
  {
   "cell_type": "code",
   "execution_count": 24,
   "metadata": {
    "collapsed": false
   },
   "outputs": [],
   "source": [
    "cats_train_path = os.path.join(path, \"train_grouped\", \"cats\")\n",
    "cats_valid_path = os.path.join(path, \"valid_grouped\", \"cats\")\n",
    "safe_mkdir(cats_train_path)\n",
    "safe_mkdir(cats_valid_path)\n",
    "\n",
    "\n",
    "dogs_train_path = os.path.join(path, \"train_grouped\", \"dogs\")\n",
    "dogs_valid_path = os.path.join(path, \"valid_grouped\", \"dogs\")\n",
    "safe_mkdir(dogs_train_path)\n",
    "safe_mkdir(dogs_valid_path)\n",
    "\n",
    "filenames = glob.glob(os.path.join(path, \"train\", \"*\"))\n",
    "\n",
    "cats_counter = 0\n",
    "dogs_counter = 0\n",
    "for filename in filenames:\n",
    "    name = filename.split(\"/\")[-1]\n",
    "    if \"cat\" in name:\n",
    "        if cats_counter < 3:\n",
    "            shutil.copy(filename, os.path.join(cats_train_path, name))\n",
    "            cats_counter += 1\n",
    "        else:\n",
    "            shutil.copy(filename, os.path.join(cats_valid_path, name))\n",
    "            cats_counter = 0\n",
    "    if \"dog\" in name:\n",
    "        if dogs_counter < 3:\n",
    "            shutil.copy(filename, os.path.join(dogs_train_path, name))\n",
    "            dogs_counter += 1\n",
    "        else:\n",
    "            shutil.copy(filename, os.path.join(dogs_valid_path, name))\n",
    "            dogs_counter = 0"
   ]
  },
  {
   "cell_type": "markdown",
   "metadata": {},
   "source": [
    "#### Creating test set."
   ]
  },
  {
   "cell_type": "code",
   "execution_count": 44,
   "metadata": {
    "collapsed": false
   },
   "outputs": [],
   "source": [
    "filenames = glob.glob(os.path.join(path, \"test\", \"*\"))\n",
    "for filename in filenames:\n",
    "    name = filename.split(\"/\")[-1]\n",
    "    file_id = name.split('.')[0]\n",
    "    test_path = os.path.join(path, \"test\", file_id)\n",
    "    safe_mkdir(test_path)\n",
    "    shutil.move(filename, os.path.join(test_path, name))"
   ]
  },
  {
   "cell_type": "markdown",
   "metadata": {},
   "source": [
    "### 4.2 Creating and training the network"
   ]
  },
  {
   "cell_type": "code",
   "execution_count": 5,
   "metadata": {
    "collapsed": true
   },
   "outputs": [],
   "source": [
    "batch_size = 64\n",
    "network = Vgg16()"
   ]
  },
  {
   "cell_type": "code",
   "execution_count": 26,
   "metadata": {
    "collapsed": false
   },
   "outputs": [
    {
     "name": "stdout",
     "output_type": "stream",
     "text": [
      "Found 18750 images belonging to 2 classes.\n",
      "Found 6250 images belonging to 2 classes.\n"
     ]
    }
   ],
   "source": [
    "train_batches = network.get_batches(os.path.join(path, \"train_grouped\"), batch_size=batch_size)\n",
    "validation_batches = network.get_batches(os.path.join(path, \"valid_grouped\"),batch_size=batch_size)\n",
    "network.finetune(train_batches)"
   ]
  },
  {
   "cell_type": "code",
   "execution_count": 27,
   "metadata": {
    "collapsed": true
   },
   "outputs": [],
   "source": [
    "number_of_epochs = 3\n",
    "model_name = \"model_2\""
   ]
  },
  {
   "cell_type": "code",
   "execution_count": 28,
   "metadata": {
    "collapsed": false
   },
   "outputs": [
    {
     "name": "stdout",
     "output_type": "stream",
     "text": [
      "Epoch 1/1\n",
      "18750/18750 [==============================] - 781s - loss: 0.1168 - acc: 0.9684 - val_loss: 0.0567 - val_acc: 0.9848\n",
      "Epoch 1/1\n",
      "18750/18750 [==============================] - 784s - loss: 0.0969 - acc: 0.9776 - val_loss: 0.0552 - val_acc: 0.9840\n",
      "Epoch 1/1\n",
      "18750/18750 [==============================] - 784s - loss: 0.0955 - acc: 0.9790 - val_loss: 0.0601 - val_acc: 0.9850\n"
     ]
    }
   ],
   "source": [
    "for i in range(number_of_epochs):\n",
    "    network.fit(train_batches, validation_batches)\n",
    "    network.model.save_weights(model_name + \"_\" + str(i) + \".h5\")"
   ]
  },
  {
   "cell_type": "markdown",
   "metadata": {},
   "source": [
    "### 4.2b Alternatively load existing model"
   ]
  },
  {
   "cell_type": "code",
   "execution_count": 6,
   "metadata": {
    "collapsed": true
   },
   "outputs": [],
   "source": [
    "network.model.load_weights(\"model_1_2.h5\")"
   ]
  },
  {
   "cell_type": "markdown",
   "metadata": {},
   "source": [
    "### 4.3 Make predictions on the testing set"
   ]
  },
  {
   "cell_type": "code",
   "execution_count": 148,
   "metadata": {
    "collapsed": false
   },
   "outputs": [
    {
     "name": "stdout",
     "output_type": "stream",
     "text": [
      "Found 12500 images belonging to 12500 classes.\n",
      "0.0\n",
      "0.1536\n",
      "0.3072\n",
      "0.4608\n",
      "0.6144\n",
      "0.768\n",
      "0.9216\n"
     ]
    }
   ],
   "source": [
    "final_classes = []\n",
    "final_probabilities = []\n",
    "final_ids = []\n",
    "total_number_of_cases = 12500\n",
    "batch_size = 64\n",
    "\n",
    "# since get_batches takes images in the order using the method below\n",
    "all_image_names = sorted(os.listdir(os.path.join(path, \"test\")))\n",
    "\n",
    "test_batch = network.get_batches(os.path.join(path, \"test\"), shuffle=False, batch_size=batch_size)\n",
    "for i in range(0, int(total_number_of_cases / batch_size) + 1):\n",
    "    imgs, labels = next(test_batch)\n",
    "    prediction = network.predict(imgs)\n",
    "    image_ids = all_image_names[i*64:(i+1)*64]\n",
    "    image_ids = [int(image_id) for image_id in image_ids]\n",
    "    probabilities = prediction[0]\n",
    "    classes = prediction[1]\n",
    "    final_classes += list(classes)\n",
    "    final_probabilities += list(probabilities)\n",
    "    final_ids += image_ids\n",
    "    if i % 30 == 0:\n",
    "        print(\"progress\", i*batch_size / total_number_of_cases)\n",
    "\n",
    "results = np.transpose(np.vstack([final_ids, final_classes, final_probabilities]))\n",
    "# It changes probabilities for cats to be near 0.\n",
    "results[results[:,1]==0, 2] = 1 - results[results[:,1]==0, 2]\n"
   ]
  },
  {
   "cell_type": "code",
   "execution_count": 149,
   "metadata": {
    "collapsed": true
   },
   "outputs": [],
   "source": [
    "np.savetxt(model_name + \"_results.csv\", results, delimiter=\",\")"
   ]
  },
  {
   "cell_type": "markdown",
   "metadata": {},
   "source": [
    "### 4.3b Alternatively load existing results"
   ]
  },
  {
   "cell_type": "code",
   "execution_count": 36,
   "metadata": {
    "collapsed": false
   },
   "outputs": [],
   "source": [
    "results = np.genfromtxt(\"results.csv\",delimiter=\",\")"
   ]
  },
  {
   "cell_type": "markdown",
   "metadata": {},
   "source": [
    "### 4.4 Check if the results make sense"
   ]
  },
  {
   "cell_type": "code",
   "execution_count": 150,
   "metadata": {
    "collapsed": false
   },
   "outputs": [
    {
     "name": "stdout",
     "output_type": "stream",
     "text": [
      "Found 12500 images belonging to 12500 classes.\n"
     ]
    }
   ],
   "source": []
  },
  {
   "cell_type": "code",
   "execution_count": null,
   "metadata": {
    "collapsed": false
   },
   "outputs": [
    {
     "name": "stdout",
     "output_type": "stream",
     "text": [
      "Found 12500 images belonging to 12500 classes.\n"
     ]
    },
    {
     "data": {
      "text/plain": [
       "array([[ 1.,  1.,  1.],\n",
       "       [ 2.,  1.,  1.],\n",
       "       [ 3.,  1.,  1.],\n",
       "       [ 4.,  1.,  1.]])"
      ]
     },
     "execution_count": 175,
     "metadata": {},
     "output_type": "execute_result"
    }
   ],
   "source": [
    "test_batch = network.get_batches(os.path.join(path, \"test\"), shuffle=False, batch_size=4)\n",
    "imgs, labels = next(test_batch)\n",
    "plots(imgs)\n",
    "results[:4]"
   ]
  },
  {
   "cell_type": "markdown",
   "metadata": {},
   "source": [
    "### 4.5 Write results to the submission file"
   ]
  },
  {
   "cell_type": "code",
   "execution_count": 167,
   "metadata": {
    "collapsed": false
   },
   "outputs": [],
   "source": [
    "results = results[results[:,0].argsort()]\n",
    "image_ids = results[:,0]\n",
    "predictions = np.clip(results[:, 2],0.02,0.98)\n",
    "with open('submission.csv', 'w') as the_file:\n",
    "    the_file.write('id,label\\n')\n",
    "    for image_id, prediction in zip(image_ids, predictions):\n",
    "        the_file.write(str(int(image_id)))\n",
    "        the_file.write(\",\")\n",
    "        the_file.write(str(prediction))\n",
    "        the_file.write(\"\\n\")\n"
   ]
  },
  {
   "cell_type": "code",
   "execution_count": 168,
   "metadata": {
    "collapsed": false
   },
   "outputs": [
    {
     "data": {
      "text/html": [
       "<a href='submission_4.csv' target='_blank'>submission_4.csv</a><br>"
      ],
      "text/plain": [
       "/home/ubuntu/fast_ai_part_1/notebooks/submission_4.csv"
      ]
     },
     "execution_count": 168,
     "metadata": {},
     "output_type": "execute_result"
    }
   ],
   "source": [
    "from IPython.display import FileLink\n",
    "FileLink('submission.csv')"
   ]
  },
  {
   "cell_type": "code",
   "execution_count": null,
   "metadata": {
    "collapsed": true
   },
   "outputs": [],
   "source": []
  }
 ],
 "metadata": {
  "anaconda-cloud": {},
  "kernelspec": {
   "display_name": "Python [conda root]",
   "language": "python",
   "name": "conda-root-py"
  },
  "language_info": {
   "codemirror_mode": {
    "name": "ipython",
    "version": 2
   },
   "file_extension": ".py",
   "mimetype": "text/x-python",
   "name": "python",
   "nbconvert_exporter": "python",
   "pygments_lexer": "ipython2",
   "version": "2.7.12"
  }
 },
 "nbformat": 4,
 "nbformat_minor": 1
}
