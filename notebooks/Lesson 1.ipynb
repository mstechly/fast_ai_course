{
 "cells": [
  {
   "cell_type": "markdown",
   "metadata": {},
   "source": [
    "# Lesson 1"
   ]
  },
  {
   "cell_type": "markdown",
   "metadata": {},
   "source": [
    "## 1. Objectives"
   ]
  },
  {
   "cell_type": "markdown",
   "metadata": {},
   "source": [
    "The main objective of this notebook is to replicate the results from the first lesson of Fast AI course (https://github.com/fastai/courses/blob/master/deeplearning1/nbs/lesson1.ipynb).\n",
    "\n",
    "I decided to do the following:\n",
    "1. Create vgg16 model based on vgg16 class. It should be able to distinguish between cats and dogs.\n",
    "2. Take part in the Dogs vs Cats Kaggle Competition\n",
    "3. Create vgg16 model which works on some other dataset."
   ]
  },
  {
   "cell_type": "markdown",
   "metadata": {},
   "source": [
    "Data should be downloaded from http://files.fast.ai/data/dogscats.zip and put into data directory."
   ]
  },
  {
   "cell_type": "markdown",
   "metadata": {},
   "source": [
    "## 2. Setting up"
   ]
  },
  {
   "cell_type": "code",
   "execution_count": null,
   "metadata": {
    "collapsed": false
   },
   "outputs": [],
   "source": [
    "%matplotlib inline\n",
    "from __future__ import division,print_function\n",
    "\n",
    "import os, json\n",
    "from glob import glob\n",
    "import numpy as np\n",
    "np.set_printoptions(precision=4, linewidth=100)\n",
    "from matplotlib import pyplot as plt"
   ]
  },
  {
   "cell_type": "code",
   "execution_count": null,
   "metadata": {
    "collapsed": false
   },
   "outputs": [],
   "source": [
    "import utils; reload(utils)\n",
    "from utils import plots"
   ]
  },
  {
   "cell_type": "code",
   "execution_count": null,
   "metadata": {
    "collapsed": false
   },
   "outputs": [],
   "source": [
    "import vgg16; reload(vgg16)\n",
    "from vgg16 import Vgg16"
   ]
  },
  {
   "cell_type": "code",
   "execution_count": null,
   "metadata": {
    "collapsed": true
   },
   "outputs": [],
   "source": [
    "# path = os.path.join(\"..\",\"data\",\"dogscats\")\n",
    "path = os.path.join(\"..\",\"data\",\"dogscats\",\"sample\")"
   ]
  },
  {
   "cell_type": "code",
   "execution_count": null,
   "metadata": {
    "collapsed": true
   },
   "outputs": [],
   "source": [
    "batch_size = 64"
   ]
  },
  {
   "cell_type": "markdown",
   "metadata": {},
   "source": [
    "## 3. VGG16 - cats and dogs"
   ]
  },
  {
   "cell_type": "code",
   "execution_count": null,
   "metadata": {
    "collapsed": false
   },
   "outputs": [],
   "source": [
    "network = Vgg16()"
   ]
  },
  {
   "cell_type": "code",
   "execution_count": null,
   "metadata": {
    "collapsed": false
   },
   "outputs": [],
   "source": [
    "train_batches = network.get_batches(os.path.join(path, \"train\"))\n",
    "validation_batches = network.get_batches(os.path.join(path, \"valid\"))\n",
    "network.finetune(train_batches)"
   ]
  },
  {
   "cell_type": "code",
   "execution_count": null,
   "metadata": {
    "collapsed": false
   },
   "outputs": [],
   "source": [
    "network.fit(train_batches, validation_batches)"
   ]
  },
  {
   "cell_type": "code",
   "execution_count": null,
   "metadata": {
    "collapsed": false
   },
   "outputs": [],
   "source": [
    "batches = network.get_batches(os.path.join(path,\"train\"), batch_size=4)"
   ]
  },
  {
   "cell_type": "code",
   "execution_count": null,
   "metadata": {
    "collapsed": false
   },
   "outputs": [],
   "source": [
    "imgs,labels = next(batches)\n",
    "plots(imgs, titles=labels)"
   ]
  },
  {
   "cell_type": "markdown",
   "metadata": {},
   "source": [
    "## 4. Kaggle competition "
   ]
  },
  {
   "cell_type": "code",
   "execution_count": null,
   "metadata": {
    "collapsed": true
   },
   "outputs": [],
   "source": [
    "path = os.path.join(\"..\",\"data\",\"dogscats_kaggle\", \"sample\")\n",
    "# path = os.path.join(\"..\",\"data\",\"dogscats_kaggle\")"
   ]
  },
  {
   "cell_type": "markdown",
   "metadata": {},
   "source": [
    "To download the data follow the instructions: http://wiki.fast.ai/index.php/Kaggle_CLI and put the dat a to the dogscats_kaggle directory."
   ]
  },
  {
   "cell_type": "code",
   "execution_count": null,
   "metadata": {
    "collapsed": true
   },
   "outputs": [],
   "source": [
    "import glob\n",
    "import shutil"
   ]
  },
  {
   "cell_type": "code",
   "execution_count": null,
   "metadata": {
    "collapsed": true
   },
   "outputs": [],
   "source": [
    "def safe_mkdir(path):\n",
    "    \"\"\"\n",
    "    Checks if a directory exists. If not, creates it.\n",
    "    \"\"\"\n",
    "    try:\n",
    "        os.makedirs(path)\n",
    "    except OSError as exc:  # Python >2.5\n",
    "        pass\n",
    "    except AttributeError as exc:\n",
    "        pass"
   ]
  },
  {
   "cell_type": "markdown",
   "metadata": {},
   "source": [
    "Creating training and validation set.\n",
    "\n",
    "Also, puts test data into a structure where we can use get_batches method easily."
   ]
  },
  {
   "cell_type": "code",
   "execution_count": null,
   "metadata": {
    "collapsed": false
   },
   "outputs": [],
   "source": [
    "cats_train_path = os.path.join(path, \"train_grouped\", \"cats\")\n",
    "cats_valid_path = os.path.join(path, \"valid_grouped\", \"cats\")\n",
    "safe_mkdir(cats_train_path)\n",
    "safe_mkdir(cats_valid_path)\n",
    "\n",
    "\n",
    "dogs_train_path = os.path.join(path, \"train_grouped\", \"dogs\")\n",
    "dogs_valid_path = os.path.join(path, \"valid_grouped\", \"dogs\")\n",
    "safe_mkdir(dogs_train_path)\n",
    "safe_mkdir(dogs_valid_path)\n",
    "\n",
    "filenames = glob.glob(os.path.join(path, \"train\", \"*\"))\n",
    "\n",
    "cats_counter = 0\n",
    "dogs_counter = 0\n",
    "for filename in filenames:\n",
    "    name = filename.split(\"/\")[-1]\n",
    "    if \"cat\" in name:\n",
    "        if cats_counter < 4:\n",
    "            shutil.copy(filename, os.path.join(cats_train_path, name))\n",
    "            cats_counter += 1\n",
    "        else:\n",
    "            shutil.copy(filename, os.path.join(cats_valid_path, name))\n",
    "            cats_counter = 0\n",
    "    if \"dog\" in name:\n",
    "        if dogs_counter < 4:\n",
    "            shutil.copy(filename, os.path.join(dogs_train_path, name))\n",
    "            dogs_counter += 1\n",
    "        else:\n",
    "            shutil.copy(filename, os.path.join(dogs_valid_path, name))\n",
    "            dogs_counter = 0\n",
    "\n"
   ]
  },
  {
   "cell_type": "code",
   "execution_count": null,
   "metadata": {
    "collapsed": false
   },
   "outputs": [],
   "source": [
    "filenames = glob.glob(os.path.join(path, \"test\", \"*\"))\n",
    "for filename in filenames:\n",
    "    name = filename.split(\"/\")[-1]\n",
    "    file_id = name.split('.')[0]\n",
    "    test_path = os.path.join(path, \"test\", file_id)\n",
    "    safe_mkdir(test_path)\n",
    "    shutil.move(filename, os.path.join(test_path, name))"
   ]
  },
  {
   "cell_type": "markdown",
   "metadata": {},
   "source": [
    "Creating and training the network"
   ]
  },
  {
   "cell_type": "code",
   "execution_count": null,
   "metadata": {
    "collapsed": true
   },
   "outputs": [],
   "source": [
    "network = Vgg16()"
   ]
  },
  {
   "cell_type": "code",
   "execution_count": null,
   "metadata": {
    "collapsed": false
   },
   "outputs": [],
   "source": [
    "train_batches = network.get_batches(os.path.join(path, \"train_grouped\"))\n",
    "validation_batches = network.get_batches(os.path.join(path, \"valid_grouped\"))\n",
    "network.finetune(train_batches)"
   ]
  },
  {
   "cell_type": "code",
   "execution_count": null,
   "metadata": {
    "collapsed": false
   },
   "outputs": [],
   "source": [
    "network.fit(train_batches, validation_batches)"
   ]
  },
  {
   "cell_type": "markdown",
   "metadata": {},
   "source": [
    "Predicting on the test set"
   ]
  },
  {
   "cell_type": "code",
   "execution_count": null,
   "metadata": {
    "collapsed": false
   },
   "outputs": [],
   "source": [
    "test_batch = network.get_batches(os.path.join(path, \"test\"), shuffle=False, batch_size=1)\n",
    "\n",
    "with open('submission.csv', 'a') as the_file:\n",
    "    the_file.write('id,label\\n')\n",
    "\n",
    "\n",
    "    for i in range(1, 12501):\n",
    "        img, label = next(test_batch)\n",
    "        prediction = network.predict(img)\n",
    "        image_id = np.where(label==1)[1][0] + 1\n",
    "        the_file.write(str(image_id))\n",
    "        the_file.write(\",\")\n",
    "        the_file.write(str(prediction[0][0]))\n",
    "        the_file.write(\"\\n\")\n",
    "        if i % 100 == 0:\n",
    "            print(i)"
   ]
  }
 ],
 "metadata": {
  "kernelspec": {
   "display_name": "fast-venv",
   "language": "python",
   "name": "fast-venv"
  },
  "language_info": {
   "codemirror_mode": {
    "name": "ipython",
    "version": 2
   },
   "file_extension": ".py",
   "mimetype": "text/x-python",
   "name": "python",
   "nbconvert_exporter": "python",
   "pygments_lexer": "ipython2",
   "version": "2.7.14"
  }
 },
 "nbformat": 4,
 "nbformat_minor": 1
}
